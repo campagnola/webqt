{
 "cells": [
  {
   "cell_type": "code",
   "execution_count": 1,
   "metadata": {
    "collapsed": true
   },
   "outputs": [],
   "source": [
    "%gui qt"
   ]
  },
  {
   "cell_type": "code",
   "execution_count": 2,
   "metadata": {
    "collapsed": true
   },
   "outputs": [],
   "source": [
    "from PyQt5 import QtWidgets, QtCore\n",
    "app = QtWidgets.QApplication([])"
   ]
  },
  {
   "cell_type": "code",
   "execution_count": 3,
   "metadata": {},
   "outputs": [
    {
     "data": {
      "application/javascript": [
       "var WebQt = (function () {\n",
       "    var pub = {};\n",
       "\n",
       "    pub.WebQtWidget = WebQtWidget;\n",
       "    function WebQtWidget(socket, image) {\n",
       "        this.socket = socket;\n",
       "        socket.onRecv = msgReceived.bind(this);\n",
       "\n",
       "        this.lastImageUpdate = undefined;\n",
       "        this.image = image;\n",
       "\n",
       "        function mkMouseEvent(ev, type) {\n",
       "            var o = {'event_type': type, 'x': ev.offsetX, 'y': ev.offsetY, 'screenX': ev.screenX, 'screenY': ev.screenY, 'button': ev.button, 'buttons': ev.buttons, 'altKey': ev.altKey, 'ctrlKey': ev.ctrlKey, 'shiftKey': ev.shiftKey, 'metaKey': ev.metaKey}\n",
       "            \n",
       "            if (type == 'wheel') {\n",
       "                o['deltaY'] = ev.deltaY\n",
       "                o['deltaX'] = ev.deltaX\n",
       "            }\n",
       "            return o\n",
       "        }\n",
       "        function onMousePress(ev) {\n",
       "            this.socket.send(mkMouseEvent(ev, 'mousePress'))\n",
       "        }\n",
       "        function onMouseRelease(ev) {\n",
       "            this.socket.send(mkMouseEvent(ev, 'mouseRelease'))\n",
       "        }\n",
       "        function onMouseMove(ev) {\n",
       "            this.socket.send(mkMouseEvent(ev, 'mouseMove'))\n",
       "        }\n",
       "        function onWheel(ev) {\n",
       "            this.socket.send(mkMouseEvent(ev, 'wheel'))\n",
       "        }\n",
       "        \n",
       "        function mkKeyEvent(ev, type) {\n",
       "            return {'event_type': type, 'code': ev['code'], 'key': ev['key'], 'repeat': ev['repeat'], 'altKey': ev.altKey, 'ctrlKey': ev.ctrlKey, 'shiftKey': ev.shiftKey, 'metaKey': ev.metaKey}\n",
       "        }\n",
       "        function onKeyDown(ev) {\n",
       "            this.socket.send(mkKeyEvent(ev, 'keyDown'))\n",
       "            // This is tricky: maybe we could wait for the server to say \n",
       "            // whether it accepted the event, but this will probably make\n",
       "            // typing very unresponsive.\n",
       "            ev.stopPropagation()\n",
       "            ev.preventDefault()\n",
       "        }\n",
       "        function onKeyUp(ev) {\n",
       "            this.socket.send(mkKeyEvent(ev, 'keyUp'))\n",
       "            ev.stopPropagation()\n",
       "            ev.preventDefault()\n",
       "        }\n",
       "        \n",
       "        this.image.addEventListener('mousedown', onMousePress.bind(this), false);\n",
       "        this.image.addEventListener('mouseup', onMouseRelease.bind(this), false);\n",
       "        this.image.addEventListener('mousemove', onMouseMove.bind(this), false);\n",
       "        this.image.addEventListener('wheel', onWheel.bind(this), false);\n",
       "        this.image.addEventListener('keydown', onKeyDown.bind(this), false);\n",
       "        this.image.addEventListener('keyup', onKeyUp.bind(this), false);\n",
       "        this.image.ondragstart = function() { return false; };\n",
       "        this.image.oncontextmenu = function() { return false; };\n",
       "\n",
       "        \n",
       "        function msgReceived(imageData) {\n",
       "            // Called when the socket receives an update from the server\n",
       "            // (might extend this to handle other types of message?)\n",
       "            this.lastImageUpdate = imageData;\n",
       "        }\n",
       "        \n",
       "        function updateImage() {\n",
       "            if( this.lastImageUpdate == undefined ) {\n",
       "                return\n",
       "            }\n",
       "            image.src = this.lastImageUpdate;\n",
       "            this.lastImageUpdate = undefined;\n",
       "        }\n",
       "\n",
       "        window.setInterval(updateImage.bind(this), 20);\n",
       "    }\n",
       "\n",
       "    \n",
       "    pub.WebSocketAdapter = WebSocketAdapter;\n",
       "    function WebSocketAdapter(address='ws://127.0.0.1:12345') {\n",
       "        this.socket = new WebSocket(address);\n",
       "        this.onRecv = undefined;\n",
       "        \n",
       "        function onSocketOpen(ev) {\n",
       "        }\n",
       "        \n",
       "        function onSocketError(err) {\n",
       "        }\n",
       "        \n",
       "        function onSocketMessage(ev) {\n",
       "            if( this.onRecv === undefined ) {\n",
       "                return;\n",
       "            }\n",
       "            url = URL.createObjectURL(ev.data);\n",
       "            this.onRecv(url);\n",
       "        }\n",
       "        \n",
       "        function send(obj) {\n",
       "            this.socket.send.call(this.socket, JSON.stringify(obj));\n",
       "        }\n",
       "        \n",
       "        this.socket.onopen = onSocketOpen.bind(this);\n",
       "        this.socket.onerror = onSocketError.bind(this);\n",
       "        this.socket.onmessage = onSocketMessage.bind(this);\n",
       "        this.send = send.bind(this);\n",
       "    }\n",
       "    return pub;\n",
       "})();\n",
       "\n",
       "\n",
       "try {\n",
       "    require.undef('webqt');\n",
       "    define('webqt', [], function() {return WebQt;});\n",
       "} catch(err) {\n",
       "    console.log(\"WebQt skipping require.js definition: \" + err.toString());\n",
       "}\n"
      ],
      "text/plain": [
       "<IPython.core.display.Javascript object>"
      ]
     },
     "metadata": {},
     "output_type": "display_data"
    },
    {
     "name": "stdout",
     "output_type": "stream",
     "text": [
      "('send:', 'webqt.js')\n"
     ]
    },
    {
     "data": {
      "application/javascript": [
       "require.undef('qpyter');\n",
       "\n",
       "define('qpyter', [\"jupyter-js-widgets\", \"webqt\"], function(widgets, WebQt) {\n",
       "\n",
       "    var QpyterView = widgets.DOMWidgetView.extend({\n",
       "\n",
       "        initialize: function (parameters) {\n",
       "            QpyterView.__super__.initialize.apply(this, [parameters]);\n",
       "            this.model.on('msg:custom', this.onMsg, this);\n",
       "            \n",
       "            // For some reason this is never called, so we rely on a separate message\n",
       "            // to respond to image updates.\n",
       "            //this.model.on('change:image_data', this.imageChanged, this);\n",
       "        },\n",
       "        \n",
       "        render: function() {\n",
       "            this.image = document.createElement('img');\n",
       "            this.el.append(this.image);\n",
       "            this.qtwidget = WebQt.WebQtWidget(this, this.image);\n",
       "            // initial image update\n",
       "            this.imageChanged();\n",
       "        },\n",
       "        \n",
       "        onMsg: function(msg) {\n",
       "            this.imageChanged();\n",
       "        },\n",
       "\n",
       "        imageChanged: function() {\n",
       "            var b = new Blob([this.model.get('image_data').buffer]);\n",
       "            this.url = URL.createObjectURL(b);\n",
       "            this.onRecv(this.url); // sends image to qt widget\n",
       "        },\n",
       "\n",
       "        remove: function() {\n",
       "            // Inform Python that the widget has been removed.\n",
       "            this.send({event_type: 'closed'});\n",
       "        },\n",
       "    });\n",
       "\n",
       "    return {\n",
       "        QpyterView: QpyterView\n",
       "    };\n",
       "});\n"
      ],
      "text/plain": [
       "<IPython.core.display.Javascript object>"
      ]
     },
     "metadata": {},
     "output_type": "display_data"
    },
    {
     "name": "stdout",
     "output_type": "stream",
     "text": [
      "('send:', 'qpyter.js')\n"
     ]
    }
   ],
   "source": [
    "import qpyter\n",
    "import numpy as np"
   ]
  },
  {
   "cell_type": "code",
   "execution_count": 6,
   "metadata": {},
   "outputs": [],
   "source": [
    "import pyqtgraph as pg\n",
    "w = pg.ImageView()\n",
    "w.setImage(np.random.normal(size=(100, 100)))\n",
    "wp = qpyter.QpyterWidget(w)\n",
    "w.show()"
   ]
  },
  {
   "cell_type": "code",
   "execution_count": 7,
   "metadata": {},
   "outputs": [
    {
     "data": {
      "application/vnd.jupyter.widget-view+json": {
       "model_id": "a48a947ec332492d98c607fc4b980e6a"
      }
     },
     "metadata": {},
     "output_type": "display_data"
    }
   ],
   "source": [
    "# show widget\n",
    "wp"
   ]
  },
  {
   "cell_type": "code",
   "execution_count": null,
   "metadata": {
    "collapsed": true
   },
   "outputs": [],
   "source": []
  }
 ],
 "metadata": {
  "kernelspec": {
   "display_name": "Python 2",
   "language": "python",
   "name": "python2"
  },
  "language_info": {
   "codemirror_mode": {
    "name": "ipython",
    "version": 2
   },
   "file_extension": ".py",
   "mimetype": "text/x-python",
   "name": "python",
   "nbconvert_exporter": "python",
   "pygments_lexer": "ipython2",
   "version": "2.7.13"
  },
  "widgets": {
   "state": {
    "0e8828e9ea70404c9a43bb9b84295309": {
     "views": [
      {
       "cell_index": 2
      }
     ]
    },
    "2e0748ae6a0b40cd9ab343ae37e748f7": {
     "views": [
      {
       "cell_index": 2
      }
     ]
    },
    "445904c782e944238343118312c597ff": {
     "views": [
      {
       "cell_index": 2
      }
     ]
    },
    "e02140dd7d3249a4abe090a6b4998862": {
     "views": [
      {
       "cell_index": 2
      }
     ]
    },
    "e7ad799823e84038b16b149b312e0934": {
     "views": [
      {
       "cell_index": 2
      }
     ]
    },
    "f70fcee5f17449218df9c724c4455671": {
     "views": [
      {
       "cell_index": 2
      }
     ]
    }
   },
   "version": "1.2.0"
  }
 },
 "nbformat": 4,
 "nbformat_minor": 2
}
