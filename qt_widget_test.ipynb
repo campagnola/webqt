{
 "cells": [
  {
   "cell_type": "code",
   "execution_count": 1,
   "metadata": {},
   "outputs": [
    {
     "data": {
      "application/javascript": [
       "require.undef('qpyter');\n",
       "\n",
       "define('qpyter', [\"jupyter-js-widgets\"], function(widgets) {\n",
       "\n",
       "    var QpyterView = widgets.DOMWidgetView.extend({\n",
       "\n",
       "        initialize: function (parameters) {\n",
       "            QpyterView.__super__.initialize.apply(this, [parameters]);\n",
       "            this.model.on('msg:custom', this.on_msg, this);\n",
       "            this.model.on('change:image_data', this.image_changed, this);\n",
       "        },\n",
       "            \n",
       "        render: function() {\n",
       "            this.image = document.createElement('img');\n",
       "//             this.image.onload = this.resize_image.bind(this);\n",
       "            //this.image.src = \"http://localhost:8888/static/base/images/logo.png\";\n",
       "//             this.image.style = \"border: 3px solid #F00; width: 200px; height: 200px;\";\n",
       "            this.el.append(this.image);\n",
       "        },\n",
       "        \n",
       "        on_msg: function(msg) {\n",
       "            var b = new Blob([this.model.get('image_data').buffer]);\n",
       "            this.url = URL.createObjectURL(b);\n",
       "            this.image.src = this.url;\n",
       "        },\n",
       "\n",
       "        image_changed: function() {\n",
       "            console.log(\"image data changed\");\n",
       "            console.log(self.model.get('image_data'));\n",
       "        },\n",
       "        \n",
       "//         resize_image: function() {\n",
       "//             console.log(this);\n",
       "//             console.log(this.image);\n",
       "//             \n",
       "//             this.image.width = this.image.naturalWidth;\n",
       "//             this.image.height = this.image.naturalHeight;\n",
       "//             console.log(this.image.height, this.image.naturalHeight);\n",
       "//         },\n",
       "//         \n",
       "        remove: function() {\n",
       "            // Inform Python that the widget has been removed.\n",
       "            this.send({\n",
       "                msg_type: 'status',\n",
       "                contents: 'removed'\n",
       "            });\n",
       "        },\n",
       "    });\n",
       "\n",
       "    return {\n",
       "        QpyterView: QpyterView\n",
       "    };\n",
       "});\n"
      ],
      "text/plain": [
       "<IPython.core.display.Javascript object>"
      ]
     },
     "metadata": {},
     "output_type": "display_data"
    }
   ],
   "source": [
    "import qpyter\n",
    "import numpy as np"
   ]
  },
  {
   "cell_type": "code",
   "execution_count": 2,
   "metadata": {
    "collapsed": true
   },
   "outputs": [],
   "source": [
    "w = qpyter.QpyterWidget()"
   ]
  },
  {
   "cell_type": "code",
   "execution_count": 3,
   "metadata": {},
   "outputs": [
    {
     "data": {
      "application/vnd.jupyter.widget-view+json": {
       "model_id": "6f102b6a02534b0bafc9c0fe34704d47"
      }
     },
     "metadata": {},
     "output_type": "display_data"
    }
   ],
   "source": [
    "# show widget\n",
    "w"
   ]
  },
  {
   "cell_type": "code",
   "execution_count": 6,
   "metadata": {
    "collapsed": true
   },
   "outputs": [],
   "source": [
    "from PyQt5 import QtWidgets, QtCore\n",
    "app = QtWidgets.QApplication([])\n",
    "\n"
   ]
  },
  {
   "cell_type": "code",
   "execution_count": 7,
   "metadata": {
    "collapsed": true
   },
   "outputs": [],
   "source": [
    "%gui qt"
   ]
  },
  {
   "cell_type": "code",
   "execution_count": 8,
   "metadata": {},
   "outputs": [],
   "source": [
    "btn = QtWidgets.QPushButton('hi')\n",
    "btn.show()"
   ]
  },
  {
   "cell_type": "code",
   "execution_count": 9,
   "metadata": {
    "collapsed": true
   },
   "outputs": [],
   "source": [
    "px = btn.grab()\n",
    "ba = QtCore.QByteArray()\n",
    "buf = QtCore.QBuffer(ba)\n",
    "buf.open(QtCore.QIODevice.WriteOnly)\n",
    "px.save(buf, \"JPG\")\n",
    "data = ba.data()"
   ]
  },
  {
   "cell_type": "code",
   "execution_count": 10,
   "metadata": {
    "collapsed": true
   },
   "outputs": [],
   "source": [
    "w.image_data = data\n",
    "w.send({'action': 'image'})"
   ]
  }
 ],
 "metadata": {
  "kernelspec": {
   "display_name": "Python 2",
   "language": "python",
   "name": "python2"
  },
  "language_info": {
   "codemirror_mode": {
    "name": "ipython",
    "version": 2
   },
   "file_extension": ".py",
   "mimetype": "text/x-python",
   "name": "python",
   "nbconvert_exporter": "python",
   "pygments_lexer": "ipython2",
   "version": "2.7.13"
  },
  "widgets": {
   "state": {
    "0e8828e9ea70404c9a43bb9b84295309": {
     "views": [
      {
       "cell_index": 2
      }
     ]
    },
    "2e0748ae6a0b40cd9ab343ae37e748f7": {
     "views": [
      {
       "cell_index": 2
      }
     ]
    },
    "445904c782e944238343118312c597ff": {
     "views": [
      {
       "cell_index": 2
      }
     ]
    },
    "e02140dd7d3249a4abe090a6b4998862": {
     "views": [
      {
       "cell_index": 2
      }
     ]
    },
    "e7ad799823e84038b16b149b312e0934": {
     "views": [
      {
       "cell_index": 2
      }
     ]
    },
    "f70fcee5f17449218df9c724c4455671": {
     "views": [
      {
       "cell_index": 2
      }
     ]
    }
   },
   "version": "1.2.0"
  }
 },
 "nbformat": 4,
 "nbformat_minor": 2
}
